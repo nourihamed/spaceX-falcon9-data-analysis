{
 "cells": [
  {
   "cell_type": "code",
   "execution_count": 1,
   "id": "17b78d1a-ba41-4b0d-a590-d5a647b677b1",
   "metadata": {},
   "outputs": [],
   "source": [
    "import pandas as pd\n",
    "import seaborn as sns\n",
    "import numpy as np\n",
    "import matplotlib.pyplot as plt"
   ]
  },
  {
   "cell_type": "markdown",
   "id": "608d1ba6-ea30-49b3-9f89-c0cf46908afb",
   "metadata": {},
   "source": [
    "##  خواندن فایل  data set"
   ]
  },
  {
   "cell_type": "code",
   "execution_count": 2,
   "id": "a929f91a-4821-43f1-976f-b034f675ffb5",
   "metadata": {},
   "outputs": [],
   "source": [
    "df = pd.read_excel(\"missing_dataset_falcon9.xlsx\")"
   ]
  },
  {
   "cell_type": "markdown",
   "id": "839021b6-99f9-4a37-b6ea-34bdeea90608",
   "metadata": {},
   "source": [
    "---------------------------------"
   ]
  },
  {
   "cell_type": "markdown",
   "id": "65c127f9-cae2-4dd9-97d2-185b94d92d69",
   "metadata": {},
   "source": [
    "# <font color='darkviolet' >مراحل پاک‌سازی داده‌ها </fomt>"
   ]
  },
  {
   "cell_type": "markdown",
   "id": "4bd27bd3-7d98-4d79-b4f2-f1b61e3b88bc",
   "metadata": {},
   "source": [
    "## <font color='darkcyan' >1 -  حذف داده‌های تکراری </fomt>"
   ]
  },
  {
   "cell_type": "code",
   "execution_count": 3,
   "id": "14f362e6-0e05-4dff-96e5-fe3b27ddec59",
   "metadata": {},
   "outputs": [
    {
     "name": "stdout",
     "output_type": "stream",
     "text": [
      "<class 'pandas.core.frame.DataFrame'>\n",
      "RangeIndex: 90 entries, 0 to 89\n",
      "Data columns (total 18 columns):\n",
      " #   Column          Non-Null Count  Dtype         \n",
      "---  ------          --------------  -----         \n",
      " 0   FlightNumber    90 non-null     int64         \n",
      " 1   Date            90 non-null     datetime64[ns]\n",
      " 2   BoosterVersion  90 non-null     object        \n",
      " 3   PayloadMass     81 non-null     float64       \n",
      " 4   Orbit           90 non-null     object        \n",
      " 5   LaunchSite      86 non-null     object        \n",
      " 6   Outcome         90 non-null     object        \n",
      " 7   Flights         90 non-null     int64         \n",
      " 8   GridFins        90 non-null     bool          \n",
      " 9   Reused          90 non-null     bool          \n",
      " 10  Legs            90 non-null     bool          \n",
      " 11  LandingPad      64 non-null     object        \n",
      " 12  Block           90 non-null     int64         \n",
      " 13  ReusedCount     90 non-null     int64         \n",
      " 14  Serial          90 non-null     object        \n",
      " 15  Longitude       90 non-null     float64       \n",
      " 16  Latitude        90 non-null     float64       \n",
      " 17  Class           90 non-null     int64         \n",
      "dtypes: bool(3), datetime64[ns](1), float64(3), int64(5), object(6)\n",
      "memory usage: 10.9+ KB\n"
     ]
    }
   ],
   "source": [
    "df.info()  "
   ]
  },
  {
   "cell_type": "markdown",
   "id": "149b0afd-490a-4fd9-ab88-36293aa20b42",
   "metadata": {},
   "source": [
    "### درصد داده های گم شده به شرح زیر هستند"
   ]
  },
  {
   "cell_type": "code",
   "execution_count": 4,
   "id": "733867db-3f92-4490-ae24-15977416e082",
   "metadata": {
    "scrolled": true
   },
   "outputs": [
    {
     "data": {
      "text/html": [
       "<div>\n",
       "<style scoped>\n",
       "    .dataframe tbody tr th:only-of-type {\n",
       "        vertical-align: middle;\n",
       "    }\n",
       "\n",
       "    .dataframe tbody tr th {\n",
       "        vertical-align: top;\n",
       "    }\n",
       "\n",
       "    .dataframe thead th {\n",
       "        text-align: right;\n",
       "    }\n",
       "</style>\n",
       "<table border=\"1\" class=\"dataframe\">\n",
       "  <thead>\n",
       "    <tr style=\"text-align: right;\">\n",
       "      <th></th>\n",
       "      <th>column_name</th>\n",
       "      <th>percent_missing</th>\n",
       "    </tr>\n",
       "  </thead>\n",
       "  <tbody>\n",
       "    <tr>\n",
       "      <th>FlightNumber</th>\n",
       "      <td>FlightNumber</td>\n",
       "      <td>0.00</td>\n",
       "    </tr>\n",
       "    <tr>\n",
       "      <th>Date</th>\n",
       "      <td>Date</td>\n",
       "      <td>0.00</td>\n",
       "    </tr>\n",
       "    <tr>\n",
       "      <th>BoosterVersion</th>\n",
       "      <td>BoosterVersion</td>\n",
       "      <td>0.00</td>\n",
       "    </tr>\n",
       "    <tr>\n",
       "      <th>PayloadMass</th>\n",
       "      <td>PayloadMass</td>\n",
       "      <td>10.00</td>\n",
       "    </tr>\n",
       "    <tr>\n",
       "      <th>Orbit</th>\n",
       "      <td>Orbit</td>\n",
       "      <td>0.00</td>\n",
       "    </tr>\n",
       "    <tr>\n",
       "      <th>LaunchSite</th>\n",
       "      <td>LaunchSite</td>\n",
       "      <td>4.44</td>\n",
       "    </tr>\n",
       "    <tr>\n",
       "      <th>Outcome</th>\n",
       "      <td>Outcome</td>\n",
       "      <td>0.00</td>\n",
       "    </tr>\n",
       "    <tr>\n",
       "      <th>Flights</th>\n",
       "      <td>Flights</td>\n",
       "      <td>0.00</td>\n",
       "    </tr>\n",
       "    <tr>\n",
       "      <th>GridFins</th>\n",
       "      <td>GridFins</td>\n",
       "      <td>0.00</td>\n",
       "    </tr>\n",
       "    <tr>\n",
       "      <th>Reused</th>\n",
       "      <td>Reused</td>\n",
       "      <td>0.00</td>\n",
       "    </tr>\n",
       "    <tr>\n",
       "      <th>Legs</th>\n",
       "      <td>Legs</td>\n",
       "      <td>0.00</td>\n",
       "    </tr>\n",
       "    <tr>\n",
       "      <th>LandingPad</th>\n",
       "      <td>LandingPad</td>\n",
       "      <td>28.89</td>\n",
       "    </tr>\n",
       "    <tr>\n",
       "      <th>Block</th>\n",
       "      <td>Block</td>\n",
       "      <td>0.00</td>\n",
       "    </tr>\n",
       "    <tr>\n",
       "      <th>ReusedCount</th>\n",
       "      <td>ReusedCount</td>\n",
       "      <td>0.00</td>\n",
       "    </tr>\n",
       "    <tr>\n",
       "      <th>Serial</th>\n",
       "      <td>Serial</td>\n",
       "      <td>0.00</td>\n",
       "    </tr>\n",
       "    <tr>\n",
       "      <th>Longitude</th>\n",
       "      <td>Longitude</td>\n",
       "      <td>0.00</td>\n",
       "    </tr>\n",
       "    <tr>\n",
       "      <th>Latitude</th>\n",
       "      <td>Latitude</td>\n",
       "      <td>0.00</td>\n",
       "    </tr>\n",
       "    <tr>\n",
       "      <th>Class</th>\n",
       "      <td>Class</td>\n",
       "      <td>0.00</td>\n",
       "    </tr>\n",
       "  </tbody>\n",
       "</table>\n",
       "</div>"
      ],
      "text/plain": [
       "                   column_name  percent_missing\n",
       "FlightNumber      FlightNumber             0.00\n",
       "Date                      Date             0.00\n",
       "BoosterVersion  BoosterVersion             0.00\n",
       "PayloadMass        PayloadMass            10.00\n",
       "Orbit                    Orbit             0.00\n",
       "LaunchSite          LaunchSite             4.44\n",
       "Outcome                Outcome             0.00\n",
       "Flights                Flights             0.00\n",
       "GridFins              GridFins             0.00\n",
       "Reused                  Reused             0.00\n",
       "Legs                      Legs             0.00\n",
       "LandingPad          LandingPad            28.89\n",
       "Block                    Block             0.00\n",
       "ReusedCount        ReusedCount             0.00\n",
       "Serial                  Serial             0.00\n",
       "Longitude            Longitude             0.00\n",
       "Latitude              Latitude             0.00\n",
       "Class                    Class             0.00"
      ]
     },
     "execution_count": 4,
     "metadata": {},
     "output_type": "execute_result"
    }
   ],
   "source": [
    "percent_missing = df.isnull().sum() * 100 / len(df)\n",
    "percent_missing = np.round(percent_missing , decimals=2)\n",
    "missing_value_df = pd.DataFrame({'column_name': df.columns,\n",
    "                                 'percent_missing': percent_missing})\n",
    "missing_value_df"
   ]
  },
  {
   "cell_type": "code",
   "execution_count": 5,
   "id": "3a3a56fd",
   "metadata": {},
   "outputs": [
    {
     "data": {
      "image/png": "[encoded data removed]",
      "text/plain": [
       "<Figure size 640x480 with 1 Axes>"
      ]
     },
     "metadata": {},
     "output_type": "display_data"
    }
   ],
   "source": [
    "sns.axes_style('white')\n",
    "sns.set_style('white')\n",
    "ax = sns.barplot(x = missing_value_df['column_name'] , y=missing_value_df['percent_missing'] , color = '#FF00FF')\n",
    "ax.set_title('Percentage of missing values')\n",
    "ax.tick_params(axis='x', rotation=90 )\n",
    "\n",
    "for container in ax.containers:\n",
    "    ax.bar_label(container)\n",
    "\n"
   ]
  },
  {
   "cell_type": "code",
   "execution_count": 6,
   "id": "d47b3421-1ed9-48c5-8ea3-b9f0c78fdaec",
   "metadata": {},
   "outputs": [],
   "source": [
    "df = df.drop_duplicates() #remove duplicates"
   ]
  },
  {
   "cell_type": "code",
   "execution_count": 7,
   "id": "7a3fdd47-01c9-45c5-b256-8d7e3cf1d706",
   "metadata": {
    "scrolled": true
   },
   "outputs": [
    {
     "name": "stdout",
     "output_type": "stream",
     "text": [
      "<class 'pandas.core.frame.DataFrame'>\n",
      "RangeIndex: 90 entries, 0 to 89\n",
      "Data columns (total 18 columns):\n",
      " #   Column          Non-Null Count  Dtype         \n",
      "---  ------          --------------  -----         \n",
      " 0   FlightNumber    90 non-null     int64         \n",
      " 1   Date            90 non-null     datetime64[ns]\n",
      " 2   BoosterVersion  90 non-null     object        \n",
      " 3   PayloadMass     81 non-null     float64       \n",
      " 4   Orbit           90 non-null     object        \n",
      " 5   LaunchSite      86 non-null     object        \n",
      " 6   Outcome         90 non-null     object        \n",
      " 7   Flights         90 non-null     int64         \n",
      " 8   GridFins        90 non-null     bool          \n",
      " 9   Reused          90 non-null     bool          \n",
      " 10  Legs            90 non-null     bool          \n",
      " 11  LandingPad      64 non-null     object        \n",
      " 12  Block           90 non-null     int64         \n",
      " 13  ReusedCount     90 non-null     int64         \n",
      " 14  Serial          90 non-null     object        \n",
      " 15  Longitude       90 non-null     float64       \n",
      " 16  Latitude        90 non-null     float64       \n",
      " 17  Class           90 non-null     int64         \n",
      "dtypes: bool(3), datetime64[ns](1), float64(3), int64(5), object(6)\n",
      "memory usage: 10.9+ KB\n"
     ]
    }
   ],
   "source": [
    "df.info()"
   ]
  },
  {
   "cell_type": "markdown",
   "id": "da32c533-4fc0-44e1-9226-22442c132d25",
   "metadata": {},
   "source": [
    "## <font color='darkcyan' >تعداد  سطرها 90 :  بعد از حذف داده های تکراری</fomt>\n",
    "## پس داده تکراری وجو ندارد"
   ]
  },
  {
   "cell_type": "markdown",
   "id": "fd896678-420b-4494-9f49-dc66dc3472ab",
   "metadata": {},
   "source": [
    "# با استفاده از دستور info\n",
    "### یک دیدکلی از دیتا ست بدست می آوریم \n",
    "### در این دیتا ست 90 سطر وجود دارد \n",
    "###  در ستون PayloadMass :   تعداد 81 سطر پرشده و 9 سطر بصورت تهی است\n",
    "### در ستون LaunchSite : تعداد 86 سطر پرشده و 4 سطر بصورت تهی است\n",
    "### در ستون LandingPad : تعداد 64 سطر پرشده و 26 سطر بصورت تهی است\n",
    "\n",
    "## این سطرها باید تعیین تکلیف شوند\n"
   ]
  },
  {
   "cell_type": "code",
   "execution_count": 8,
   "id": "734bacb3",
   "metadata": {},
   "outputs": [
    {
     "data": {
      "text/plain": [
       "Index(['FlightNumber', 'Date', 'BoosterVersion', 'PayloadMass', 'Orbit',\n",
       "       'LaunchSite', 'Outcome', 'Flights', 'GridFins', 'Reused', 'Legs',\n",
       "       'LandingPad', 'Block', 'ReusedCount', 'Serial', 'Longitude', 'Latitude',\n",
       "       'Class'],\n",
       "      dtype='object')"
      ]
     },
     "execution_count": 8,
     "metadata": {},
     "output_type": "execute_result"
    }
   ],
   "source": [
    "df.columns"
   ]
  },
  {
   "cell_type": "code",
   "execution_count": 9,
   "id": "c971dbda",
   "metadata": {},
   "outputs": [
    {
     "data": {
      "image/png": "[encoded data removed]",
      "text/plain": [
       "<Figure size 640x480 with 1 Axes>"
      ]
     },
     "metadata": {},
     "output_type": "display_data"
    }
   ],
   "source": [
    "ax = df[\"LaunchSite\"].value_counts().plot(kind=\"pie\", title=\"LaunchSite\" , autopct='%1.1f%%',)\n"
   ]
  },
  {
   "cell_type": "code",
   "execution_count": 10,
   "id": "b6767293",
   "metadata": {},
   "outputs": [
    {
     "data": {
      "image/png": "[encoded data removed]",
      "text/plain": [
       "<Figure size 640x480 with 1 Axes>"
      ]
     },
     "metadata": {},
     "output_type": "display_data"
    }
   ],
   "source": [
    "ax = df[\"Orbit\"].value_counts().plot(kind=\"pie\", title=\"Orbit\" , autopct='%1.1f%%',)\n"
   ]
  },
  {
   "cell_type": "code",
   "execution_count": 11,
   "id": "d5b1b39a",
   "metadata": {},
   "outputs": [
    {
     "data": {
      "image/png": "[encoded data removed]",
      "text/plain": [
       "<Figure size 640x480 with 1 Axes>"
      ]
     },
     "metadata": {},
     "output_type": "display_data"
    }
   ],
   "source": [
    "ax =  sns.countplot( x = 'LandingPad' ,data=df , hue='Class')\n",
    "#df['highest_level_of_education'].value_counts().plot(kind='bar')\n",
    "ax.tick_params(axis='x', rotation=90)\n",
    "ax.set_title(\"LaunchSite\")\n",
    "for container in ax.containers:\n",
    "    ax.bar_label(container)"
   ]
  },
  {
   "cell_type": "code",
   "execution_count": 12,
   "id": "da2fe408",
   "metadata": {},
   "outputs": [
    {
     "data": {
      "image/png": "[encoded data removed]",
      "text/plain": [
       "<Figure size 640x480 with 1 Axes>"
      ]
     },
     "metadata": {},
     "output_type": "display_data"
    }
   ],
   "source": [
    "ax =  sns.countplot( x = 'Outcome' ,data=df , hue='Class')\n",
    "totals = []\n",
    "for container in ax.containers:\n",
    "    total = 0\n",
    "    for bar in container:\n",
    "        total += bar.get_height()\n",
    "    totals.append(total)\n",
    "\n",
    "# Add value labels as percentages inside the bar\n",
    "for i, container in enumerate(ax.containers):\n",
    "    for j, bar in enumerate(container):\n",
    "        ax.annotate(str(round(bar.get_height()/totals[i]*100, 2)) + '%', \n",
    "                    xy=(bar.get_x() + bar.get_width() / 2, bar.get_height()),\n",
    "                    xytext=(0, 3),  # 3 points vertical offset\n",
    "                    textcoords=\"offset points\",\n",
    "                    ha='center', va='bottom')\n",
    "ax.tick_params(axis='x', rotation=90)\n"
   ]
  },
  {
   "cell_type": "code",
   "execution_count": 13,
   "id": "3fb97c4d",
   "metadata": {},
   "outputs": [
    {
     "data": {
      "image/png": "[encoded data removed]",
      "text/plain": [
       "<Figure size 640x480 with 1 Axes>"
      ]
     },
     "metadata": {},
     "output_type": "display_data"
    }
   ],
   "source": [
    "ax =  sns.countplot( x = 'Block' ,data=df , hue='Class')\n",
    "totals = []\n",
    "for container in ax.containers:\n",
    "    total = 0\n",
    "    for bar in container:\n",
    "        total += bar.get_height()\n",
    "    totals.append(total)\n",
    "\n",
    "# Add value labels as percentages inside the bar\n",
    "for i, container in enumerate(ax.containers):\n",
    "    for j, bar in enumerate(container):\n",
    "        ax.annotate(str(round(bar.get_height()/totals[i]*100, 2)) + '%', \n",
    "                    xy=(bar.get_x() + bar.get_width() / 2, bar.get_height()),\n",
    "                    xytext=(0, 3),  # 3 points vertical offset\n",
    "                    textcoords=\"offset points\",\n",
    "                    ha='center', va='bottom')"
   ]
  },
  {
   "cell_type": "code",
   "execution_count": 14,
   "id": "ebbfd0e3",
   "metadata": {},
   "outputs": [
    {
     "data": {
      "image/png": "[encoded data removed]",
      "text/plain": [
       "<Figure size 640x480 with 1 Axes>"
      ]
     },
     "metadata": {},
     "output_type": "display_data"
    }
   ],
   "source": [
    "ax =  sns.countplot( x = 'Legs' ,data=df , hue='Class')\n",
    "totals = []\n",
    "for container in ax.containers:\n",
    "    total = 0\n",
    "    for bar in container:\n",
    "        total += bar.get_height()\n",
    "    totals.append(total)\n",
    "\n",
    "# Add value labels as percentages inside the bar\n",
    "for i, container in enumerate(ax.containers):\n",
    "    for j, bar in enumerate(container):\n",
    "        ax.annotate(str(round(bar.get_height()/totals[i]*100, 2)) + '%', \n",
    "                    xy=(bar.get_x() + bar.get_width() / 2, bar.get_height()),\n",
    "                    xytext=(0, 3),  # 3 points vertical offset\n",
    "                    textcoords=\"offset points\",\n",
    "                    ha='center', va='bottom')\n",
    "\n"
   ]
  },
  {
   "cell_type": "markdown",
   "id": "69072fef-3a5f-4cfc-bb2b-60d24d3dd3a6",
   "metadata": {},
   "source": [
    "## <font color='darkcyan' >2. پر کردن مقادیر گم‌شده (Missing Values)</fomt>\n",
    "### در این مرحله، مقادیر گم‌شده را با استفاده از میانگین، میانه یا مد پر می‌کنیم.\n"
   ]
  },
  {
   "cell_type": "code",
   "execution_count": 15,
   "id": "65cd5370",
   "metadata": {},
   "outputs": [],
   "source": [
    "from scipy.stats import chi2_contingency"
   ]
  },
  {
   "cell_type": "code",
   "execution_count": 16,
   "id": "7655274e",
   "metadata": {},
   "outputs": [
    {
     "data": {
      "text/plain": [
       "Index(['FlightNumber', 'Date', 'BoosterVersion', 'PayloadMass', 'Orbit',\n",
       "       'LaunchSite', 'Outcome', 'Flights', 'GridFins', 'Reused', 'Legs',\n",
       "       'LandingPad', 'Block', 'ReusedCount', 'Serial', 'Longitude', 'Latitude',\n",
       "       'Class'],\n",
       "      dtype='object')"
      ]
     },
     "execution_count": 16,
     "metadata": {},
     "output_type": "execute_result"
    }
   ],
   "source": [
    "df.columns"
   ]
  },
  {
   "cell_type": "code",
   "execution_count": 17,
   "id": "102f88d9-8520-4d0c-97f3-26ee341dfb25",
   "metadata": {},
   "outputs": [],
   "source": [
    "def my_chi2(df1 , df2):\n",
    "    df_chi2 = {}\n",
    "\n",
    "    \n",
    "    r,c = df2.shape\n",
    "    for i in range(c):\n",
    "        contingency_table = pd.crosstab(df1, df2.iloc[:,i])\n",
    "        chi2, p, dof, expected = chi2_contingency(contingency_table)\n",
    "\n",
    "        #print(f\"Chi-Square Test p-value {df2.columns[i]}: {p}\")\n",
    "        df_chi2[df2.columns[i]] = chi2\n",
    "    \n",
    "\n",
    "\n",
    "    print(len(df1))    \n",
    "\n",
    "    ax = sns.barplot(df_chi2)\n",
    "    ax.set_title('Correlation percentage based on the Chi-square test')\n",
    "    ax.tick_params(axis='x', rotation=90)\n"
   ]
  },
  {
   "cell_type": "code",
   "execution_count": 18,
   "id": "0c104e2e",
   "metadata": {},
   "outputs": [
    {
     "name": "stdout",
     "output_type": "stream",
     "text": [
      "90\n"
     ]
    },
    {
     "data": {
      "image/png": "[encoded data removed]",
      "text/plain": [
       "<Figure size 640x480 with 1 Axes>"
      ]
     },
     "metadata": {},
     "output_type": "display_data"
    }
   ],
   "source": [
    "df_ch = df.drop(['FlightNumber', 'Date','Class' , 'PayloadMass' , 'Serial'] , axis = 1)\n",
    "my_chi2(df['PayloadMass'], df_ch)\n"
   ]
  },
  {
   "cell_type": "code",
   "execution_count": null,
   "id": "a24df143",
   "metadata": {},
   "outputs": [],
   "source": []
  },
  {
   "cell_type": "markdown",
   "id": "f66f2bb2-e608-4c98-a88a-a443d8371f9d",
   "metadata": {},
   "source": [
    "## <font color='purple' >PayloadMass</fomt>\n",
    "###  روش اول-  میانگین جرم کل فالکن ها را در جاهای تهی قرار دهیم\n",
    "###  روش دوم برمبنای سایر ستون ها \n",
    "#### از انجایی که جرم فالکن  می تواند تابعی از مداری باشد که در آن قرار می گیرد \n",
    "####  می توانیم میانگین وزنی موجود مدار های مختلف را پیدا کنیم و  سپس این مقادیر را جاگزین تهی ها کنیم"
   ]
  },
  {
   "cell_type": "code",
   "execution_count": 19,
   "id": "cbb2200c-c259-45b4-90c3-22a6a80fc214",
   "metadata": {},
   "outputs": [
    {
     "data": {
      "text/plain": [
       "<Axes: xlabel='PayloadMass', ylabel='Count'>"
      ]
     },
     "execution_count": 19,
     "metadata": {},
     "output_type": "execute_result"
    },
    {
     "data": {
      "image/png": "[encoded data removed]",
      "text/plain": [
       "<Figure size 640x480 with 1 Axes>"
      ]
     },
     "metadata": {},
     "output_type": "display_data"
    }
   ],
   "source": [
    "sns.histplot(x='PayloadMass' , data=df , hue=\"Orbit\")"
   ]
  },
  {
   "cell_type": "markdown",
   "id": "10b0ab6a-f740-450c-a5a6-c2c4d830e299",
   "metadata": {},
   "source": [
    "### در نمودار بالا جرم فالکن ها براساس مدار پرتابی رسم شده است \n",
    "### ملاحظه می شود که وزن فالکن ها تابعی از همین مدار ها است\n",
    "### می توانیم داده های تهی را برساس میانگین وزنی مدارات قرار گیری  جایگزین کنیم"
   ]
  },
  {
   "cell_type": "code",
   "execution_count": 20,
   "id": "fa340772-b8dd-4872-9bfd-f6535c6694ce",
   "metadata": {},
   "outputs": [],
   "source": [
    "df['PayloadMass'] = df['PayloadMass'].fillna(df.groupby('Orbit')['PayloadMass'].transform('mean'))\n",
    "# for each_orbit in df.groupby('Orbit')['PayloadMass']:\n",
    "#     print(each_orbit)"
   ]
  },
  {
   "cell_type": "code",
   "execution_count": 21,
   "id": "f8ed43be-35f1-4843-b0b1-e8e905654721",
   "metadata": {},
   "outputs": [
    {
     "data": {
      "text/plain": [
       "PayloadMass\n",
       "15400.000000    10\n",
       "9600.000000      7\n",
       "6104.959412      4\n",
       "5050.428261      4\n",
       "3442.222222      3\n",
       "                ..\n",
       "1977.000000      1\n",
       "9525.000000      1\n",
       "3880.000000      1\n",
       "1600.000000      1\n",
       "3681.000000      1\n",
       "Name: count, Length: 65, dtype: int64"
      ]
     },
     "execution_count": 21,
     "metadata": {},
     "output_type": "execute_result"
    }
   ],
   "source": [
    "df['PayloadMass'].value_counts()"
   ]
  },
  {
   "cell_type": "code",
   "execution_count": 22,
   "id": "587a460c-14c4-4947-aafa-e533272ea628",
   "metadata": {},
   "outputs": [
    {
     "name": "stdout",
     "output_type": "stream",
     "text": [
      "<class 'pandas.core.frame.DataFrame'>\n",
      "RangeIndex: 90 entries, 0 to 89\n",
      "Data columns (total 18 columns):\n",
      " #   Column          Non-Null Count  Dtype         \n",
      "---  ------          --------------  -----         \n",
      " 0   FlightNumber    90 non-null     int64         \n",
      " 1   Date            90 non-null     datetime64[ns]\n",
      " 2   BoosterVersion  90 non-null     object        \n",
      " 3   PayloadMass     90 non-null     float64       \n",
      " 4   Orbit           90 non-null     object        \n",
      " 5   LaunchSite      86 non-null     object        \n",
      " 6   Outcome         90 non-null     object        \n",
      " 7   Flights         90 non-null     int64         \n",
      " 8   GridFins        90 non-null     bool          \n",
      " 9   Reused          90 non-null     bool          \n",
      " 10  Legs            90 non-null     bool          \n",
      " 11  LandingPad      64 non-null     object        \n",
      " 12  Block           90 non-null     int64         \n",
      " 13  ReusedCount     90 non-null     int64         \n",
      " 14  Serial          90 non-null     object        \n",
      " 15  Longitude       90 non-null     float64       \n",
      " 16  Latitude        90 non-null     float64       \n",
      " 17  Class           90 non-null     int64         \n",
      "dtypes: bool(3), datetime64[ns](1), float64(3), int64(5), object(6)\n",
      "memory usage: 10.9+ KB\n"
     ]
    }
   ],
   "source": [
    "df.info()"
   ]
  },
  {
   "cell_type": "markdown",
   "id": "ce7adc73-d6ee-4ae5-af72-4a7f329f1c44",
   "metadata": {},
   "source": [
    "## <font color='purple' > LaunchSite </font>\n",
    "### مقادیر این ستون بصورت طبقه بندی شده است\n",
    "#### سعی می کنیم یک ارتباط بین این ستون و ستون دیگر پیدا کنیم و همانند ستون جرم فالکن عمل کنیم\n",
    "#### اگر پیدا نشد\n",
    "#### یک روش این است که بیشترین تکرار را پیدا کنیم  و به جای مقادیر خالی همان را قرار دهیم \n",
    "#### برای این کار داریم"
   ]
  },
  {
   "cell_type": "code",
   "execution_count": 23,
   "id": "d9253d85",
   "metadata": {},
   "outputs": [
    {
     "name": "stdout",
     "output_type": "stream",
     "text": [
      "90\n"
     ]
    },
    {
     "data": {
      "image/png": "[encoded data removed]",
      "text/plain": [
       "<Figure size 640x480 with 1 Axes>"
      ]
     },
     "metadata": {},
     "output_type": "display_data"
    }
   ],
   "source": [
    "my_chi2(df['LaunchSite'], df_ch)"
   ]
  },
  {
   "cell_type": "code",
   "execution_count": 24,
   "id": "0aa5aaa7-0e46-4a40-a095-84ecbcca16e9",
   "metadata": {},
   "outputs": [
    {
     "data": {
      "text/plain": [
       "LaunchSite\n",
       "CCAFS SLC 40    53\n",
       "KSC LC 39A      20\n",
       "VAFB SLC 4E     13\n",
       "Name: count, dtype: int64"
      ]
     },
     "execution_count": 24,
     "metadata": {},
     "output_type": "execute_result"
    }
   ],
   "source": [
    "df['LaunchSite'].value_counts()"
   ]
  },
  {
   "cell_type": "code",
   "execution_count": 25,
   "id": "e33fef50-8329-4d93-b510-0753a89a4e04",
   "metadata": {},
   "outputs": [],
   "source": [
    "import numpy as np "
   ]
  },
  {
   "cell_type": "code",
   "execution_count": 26,
   "id": "07817a7f-008c-4b0c-866c-a92a30bde523",
   "metadata": {},
   "outputs": [],
   "source": [
    "df['LaunchSite'] = df['LaunchSite'].replace(np.nan , 'CCAFS SLC 40')"
   ]
  },
  {
   "cell_type": "code",
   "execution_count": 27,
   "id": "2dee86a8-05c1-4ca8-91f1-4734c6ef4479",
   "metadata": {},
   "outputs": [
    {
     "name": "stdout",
     "output_type": "stream",
     "text": [
      "<class 'pandas.core.frame.DataFrame'>\n",
      "RangeIndex: 90 entries, 0 to 89\n",
      "Data columns (total 18 columns):\n",
      " #   Column          Non-Null Count  Dtype         \n",
      "---  ------          --------------  -----         \n",
      " 0   FlightNumber    90 non-null     int64         \n",
      " 1   Date            90 non-null     datetime64[ns]\n",
      " 2   BoosterVersion  90 non-null     object        \n",
      " 3   PayloadMass     90 non-null     float64       \n",
      " 4   Orbit           90 non-null     object        \n",
      " 5   LaunchSite      90 non-null     object        \n",
      " 6   Outcome         90 non-null     object        \n",
      " 7   Flights         90 non-null     int64         \n",
      " 8   GridFins        90 non-null     bool          \n",
      " 9   Reused          90 non-null     bool          \n",
      " 10  Legs            90 non-null     bool          \n",
      " 11  LandingPad      64 non-null     object        \n",
      " 12  Block           90 non-null     int64         \n",
      " 13  ReusedCount     90 non-null     int64         \n",
      " 14  Serial          90 non-null     object        \n",
      " 15  Longitude       90 non-null     float64       \n",
      " 16  Latitude        90 non-null     float64       \n",
      " 17  Class           90 non-null     int64         \n",
      "dtypes: bool(3), datetime64[ns](1), float64(3), int64(5), object(6)\n",
      "memory usage: 10.9+ KB\n"
     ]
    }
   ],
   "source": [
    "df.info()"
   ]
  },
  {
   "cell_type": "markdown",
   "id": "58120038-b0c8-4104-8179-e78b5812f28e",
   "metadata": {},
   "source": [
    "# <font color='purple'> LandingPad </font>\n",
    "### <font color='red'>  چون تعداد حالت هایی را که  نمی دانیم زیاد هستند اگر هم طبق ستون های دیگر پر شوند اشتباه محاسباتی حواهیم داشت </font>\n",
    "###  <font color='red'>  می توانیم این داده ها را بعنوان یک حالت جدید در نظر بگیریم یعنی حالت نمی دانم </font>\n",
    "fuzzy logic\n",
    "### پس با این ستون کاری نداریم"
   ]
  },
  {
   "cell_type": "markdown",
   "id": "ad2dc3f8-331b-49ef-9247-4c474505ea1f",
   "metadata": {},
   "source": [
    "## <font color='darkcyan' >3 -  حذف ستون های نا مرتبط با  ستون هدف </fomt>"
   ]
  },
  {
   "cell_type": "code",
   "execution_count": 28,
   "id": "c51fbe77-77ea-451f-8df0-30ed52293f57",
   "metadata": {},
   "outputs": [
    {
     "name": "stdout",
     "output_type": "stream",
     "text": [
      "<class 'pandas.core.frame.DataFrame'>\n",
      "RangeIndex: 90 entries, 0 to 89\n",
      "Data columns (total 18 columns):\n",
      " #   Column          Non-Null Count  Dtype         \n",
      "---  ------          --------------  -----         \n",
      " 0   FlightNumber    90 non-null     int64         \n",
      " 1   Date            90 non-null     datetime64[ns]\n",
      " 2   BoosterVersion  90 non-null     object        \n",
      " 3   PayloadMass     90 non-null     float64       \n",
      " 4   Orbit           90 non-null     object        \n",
      " 5   LaunchSite      90 non-null     object        \n",
      " 6   Outcome         90 non-null     object        \n",
      " 7   Flights         90 non-null     int64         \n",
      " 8   GridFins        90 non-null     bool          \n",
      " 9   Reused          90 non-null     bool          \n",
      " 10  Legs            90 non-null     bool          \n",
      " 11  LandingPad      64 non-null     object        \n",
      " 12  Block           90 non-null     int64         \n",
      " 13  ReusedCount     90 non-null     int64         \n",
      " 14  Serial          90 non-null     object        \n",
      " 15  Longitude       90 non-null     float64       \n",
      " 16  Latitude        90 non-null     float64       \n",
      " 17  Class           90 non-null     int64         \n",
      "dtypes: bool(3), datetime64[ns](1), float64(3), int64(5), object(6)\n",
      "memory usage: 10.9+ KB\n"
     ]
    }
   ],
   "source": [
    "df.info()"
   ]
  },
  {
   "cell_type": "markdown",
   "id": "47791ca2-d2c9-40fc-a49f-ecef5ed1d5f4",
   "metadata": {},
   "source": [
    "###  <font color='darkcyan' >  ستون هایی زیر در این دیتاست  نمی توانند ارتباطی با فرود موفقیت آمیز  فالکن داشته باشند </font>\n",
    "-  FlightNumber\n",
    "-  Date \n",
    "-  BoosterVersion\n",
    "-  Longitude\n",
    "-  Latitude\n"
   ]
  },
  {
   "cell_type": "code",
   "execution_count": 29,
   "id": "6feeed60-dacb-4c92-9dfc-4a5dedf22f19",
   "metadata": {},
   "outputs": [
    {
     "name": "stdout",
     "output_type": "stream",
     "text": [
      "<class 'pandas.core.frame.DataFrame'>\n",
      "RangeIndex: 90 entries, 0 to 89\n",
      "Data columns (total 18 columns):\n",
      " #   Column          Non-Null Count  Dtype         \n",
      "---  ------          --------------  -----         \n",
      " 0   FlightNumber    90 non-null     int64         \n",
      " 1   Date            90 non-null     datetime64[ns]\n",
      " 2   BoosterVersion  90 non-null     object        \n",
      " 3   PayloadMass     90 non-null     float64       \n",
      " 4   Orbit           90 non-null     object        \n",
      " 5   LaunchSite      90 non-null     object        \n",
      " 6   Outcome         90 non-null     object        \n",
      " 7   Flights         90 non-null     int64         \n",
      " 8   GridFins        90 non-null     bool          \n",
      " 9   Reused          90 non-null     bool          \n",
      " 10  Legs            90 non-null     bool          \n",
      " 11  LandingPad      64 non-null     object        \n",
      " 12  Block           90 non-null     int64         \n",
      " 13  ReusedCount     90 non-null     int64         \n",
      " 14  Serial          90 non-null     object        \n",
      " 15  Longitude       90 non-null     float64       \n",
      " 16  Latitude        90 non-null     float64       \n",
      " 17  Class           90 non-null     int64         \n",
      "dtypes: bool(3), datetime64[ns](1), float64(3), int64(5), object(6)\n",
      "memory usage: 10.9+ KB\n"
     ]
    }
   ],
   "source": [
    "df.info()"
   ]
  },
  {
   "cell_type": "code",
   "execution_count": 30,
   "id": "8cd01b12-ba98-422c-9b1e-4dc2f09eee27",
   "metadata": {},
   "outputs": [],
   "source": [
    "df = df.drop(['FlightNumber','Date','BoosterVersion','Longitude','Latitude' ] , axis = 1)"
   ]
  },
  {
   "cell_type": "code",
   "execution_count": 31,
   "id": "5d625691-2e73-4e10-bcfd-36086e5ef1a2",
   "metadata": {},
   "outputs": [
    {
     "name": "stdout",
     "output_type": "stream",
     "text": [
      "<class 'pandas.core.frame.DataFrame'>\n",
      "RangeIndex: 90 entries, 0 to 89\n",
      "Data columns (total 13 columns):\n",
      " #   Column       Non-Null Count  Dtype  \n",
      "---  ------       --------------  -----  \n",
      " 0   PayloadMass  90 non-null     float64\n",
      " 1   Orbit        90 non-null     object \n",
      " 2   LaunchSite   90 non-null     object \n",
      " 3   Outcome      90 non-null     object \n",
      " 4   Flights      90 non-null     int64  \n",
      " 5   GridFins     90 non-null     bool   \n",
      " 6   Reused       90 non-null     bool   \n",
      " 7   Legs         90 non-null     bool   \n",
      " 8   LandingPad   64 non-null     object \n",
      " 9   Block        90 non-null     int64  \n",
      " 10  ReusedCount  90 non-null     int64  \n",
      " 11  Serial       90 non-null     object \n",
      " 12  Class        90 non-null     int64  \n",
      "dtypes: bool(3), float64(1), int64(4), object(5)\n",
      "memory usage: 7.4+ KB\n"
     ]
    }
   ],
   "source": [
    "df.info()"
   ]
  },
  {
   "cell_type": "markdown",
   "id": "d09b478d-7de8-4575-9400-05f6ebe51288",
   "metadata": {},
   "source": [
    "------------------------------------------------"
   ]
  },
  {
   "cell_type": "markdown",
   "id": "a9b9b2da-aa3d-47a4-9fd9-55b659948bf9",
   "metadata": {},
   "source": [
    "-------------------"
   ]
  },
  {
   "cell_type": "markdown",
   "id": "cb1c7578-2e85-4154-b481-431991821628",
   "metadata": {},
   "source": [
    "# <font color='darkviolet'> مرحله تبدیل داده های غیر عددی به داده های عددی </font>"
   ]
  },
  {
   "cell_type": "markdown",
   "id": "9b0ebcef-3399-4fda-b36a-f1500dd5ea98",
   "metadata": {},
   "source": [
    "# dummy variable \n",
    " - متغیر ساختگی\n",
    "  - object -> هر مقداری در یک ستون با این ویژگی به یک ستون جدید با مقادیر 0 یا 1 تبدیل می شود"
   ]
  },
  {
   "cell_type": "code",
   "execution_count": 32,
   "id": "0bd59e84-f708-4ec7-ae10-7b4db882e278",
   "metadata": {},
   "outputs": [],
   "source": [
    "df_dummy = pd.get_dummies(df[['PayloadMass','Orbit','LaunchSite' , 'Outcome' , 'LandingPad', 'Block' , 'ReusedCount' ,'Serial' ]] , dtype=int)"
   ]
  },
  {
   "cell_type": "code",
   "execution_count": 33,
   "id": "7a91015c-9e69-4f2c-8fa1-bb8564b22cad",
   "metadata": {},
   "outputs": [
    {
     "data": {
      "text/html": [
       "<div>\n",
       "<style scoped>\n",
       "    .dataframe tbody tr th:only-of-type {\n",
       "        vertical-align: middle;\n",
       "    }\n",
       "\n",
       "    .dataframe tbody tr th {\n",
       "        vertical-align: top;\n",
       "    }\n",
       "\n",
       "    .dataframe thead th {\n",
       "        text-align: right;\n",
       "    }\n",
       "</style>\n",
       "<table border=\"1\" class=\"dataframe\">\n",
       "  <thead>\n",
       "    <tr style=\"text-align: right;\">\n",
       "      <th></th>\n",
       "      <th>PayloadMass</th>\n",
       "      <th>Block</th>\n",
       "      <th>ReusedCount</th>\n",
       "      <th>Orbit_ES-L1</th>\n",
       "      <th>Orbit_GEO</th>\n",
       "      <th>Orbit_GTO</th>\n",
       "      <th>Orbit_HEO</th>\n",
       "      <th>Orbit_ISS</th>\n",
       "      <th>Orbit_LEO</th>\n",
       "      <th>Orbit_MEO</th>\n",
       "      <th>...</th>\n",
       "      <th>Serial_B1048</th>\n",
       "      <th>Serial_B1049</th>\n",
       "      <th>Serial_B1050</th>\n",
       "      <th>Serial_B1051</th>\n",
       "      <th>Serial_B1054</th>\n",
       "      <th>Serial_B1056</th>\n",
       "      <th>Serial_B1058</th>\n",
       "      <th>Serial_B1059</th>\n",
       "      <th>Serial_B1060</th>\n",
       "      <th>Serial_B1062</th>\n",
       "    </tr>\n",
       "  </thead>\n",
       "  <tbody>\n",
       "    <tr>\n",
       "      <th>0</th>\n",
       "      <td>6104.959412</td>\n",
       "      <td>1</td>\n",
       "      <td>0</td>\n",
       "      <td>0</td>\n",
       "      <td>0</td>\n",
       "      <td>0</td>\n",
       "      <td>0</td>\n",
       "      <td>0</td>\n",
       "      <td>1</td>\n",
       "      <td>0</td>\n",
       "      <td>...</td>\n",
       "      <td>0</td>\n",
       "      <td>0</td>\n",
       "      <td>0</td>\n",
       "      <td>0</td>\n",
       "      <td>0</td>\n",
       "      <td>0</td>\n",
       "      <td>0</td>\n",
       "      <td>0</td>\n",
       "      <td>0</td>\n",
       "      <td>0</td>\n",
       "    </tr>\n",
       "    <tr>\n",
       "      <th>1</th>\n",
       "      <td>525.000000</td>\n",
       "      <td>1</td>\n",
       "      <td>0</td>\n",
       "      <td>0</td>\n",
       "      <td>0</td>\n",
       "      <td>0</td>\n",
       "      <td>0</td>\n",
       "      <td>0</td>\n",
       "      <td>1</td>\n",
       "      <td>0</td>\n",
       "      <td>...</td>\n",
       "      <td>0</td>\n",
       "      <td>0</td>\n",
       "      <td>0</td>\n",
       "      <td>0</td>\n",
       "      <td>0</td>\n",
       "      <td>0</td>\n",
       "      <td>0</td>\n",
       "      <td>0</td>\n",
       "      <td>0</td>\n",
       "      <td>0</td>\n",
       "    </tr>\n",
       "    <tr>\n",
       "      <th>2</th>\n",
       "      <td>677.000000</td>\n",
       "      <td>1</td>\n",
       "      <td>0</td>\n",
       "      <td>0</td>\n",
       "      <td>0</td>\n",
       "      <td>0</td>\n",
       "      <td>0</td>\n",
       "      <td>1</td>\n",
       "      <td>0</td>\n",
       "      <td>0</td>\n",
       "      <td>...</td>\n",
       "      <td>0</td>\n",
       "      <td>0</td>\n",
       "      <td>0</td>\n",
       "      <td>0</td>\n",
       "      <td>0</td>\n",
       "      <td>0</td>\n",
       "      <td>0</td>\n",
       "      <td>0</td>\n",
       "      <td>0</td>\n",
       "      <td>0</td>\n",
       "    </tr>\n",
       "    <tr>\n",
       "      <th>3</th>\n",
       "      <td>8469.125000</td>\n",
       "      <td>1</td>\n",
       "      <td>0</td>\n",
       "      <td>0</td>\n",
       "      <td>0</td>\n",
       "      <td>0</td>\n",
       "      <td>0</td>\n",
       "      <td>0</td>\n",
       "      <td>0</td>\n",
       "      <td>0</td>\n",
       "      <td>...</td>\n",
       "      <td>0</td>\n",
       "      <td>0</td>\n",
       "      <td>0</td>\n",
       "      <td>0</td>\n",
       "      <td>0</td>\n",
       "      <td>0</td>\n",
       "      <td>0</td>\n",
       "      <td>0</td>\n",
       "      <td>0</td>\n",
       "      <td>0</td>\n",
       "    </tr>\n",
       "    <tr>\n",
       "      <th>4</th>\n",
       "      <td>3170.000000</td>\n",
       "      <td>1</td>\n",
       "      <td>0</td>\n",
       "      <td>0</td>\n",
       "      <td>0</td>\n",
       "      <td>1</td>\n",
       "      <td>0</td>\n",
       "      <td>0</td>\n",
       "      <td>0</td>\n",
       "      <td>0</td>\n",
       "      <td>...</td>\n",
       "      <td>0</td>\n",
       "      <td>0</td>\n",
       "      <td>0</td>\n",
       "      <td>0</td>\n",
       "      <td>0</td>\n",
       "      <td>0</td>\n",
       "      <td>0</td>\n",
       "      <td>0</td>\n",
       "      <td>0</td>\n",
       "      <td>0</td>\n",
       "    </tr>\n",
       "    <tr>\n",
       "      <th>...</th>\n",
       "      <td>...</td>\n",
       "      <td>...</td>\n",
       "      <td>...</td>\n",
       "      <td>...</td>\n",
       "      <td>...</td>\n",
       "      <td>...</td>\n",
       "      <td>...</td>\n",
       "      <td>...</td>\n",
       "      <td>...</td>\n",
       "      <td>...</td>\n",
       "      <td>...</td>\n",
       "      <td>...</td>\n",
       "      <td>...</td>\n",
       "      <td>...</td>\n",
       "      <td>...</td>\n",
       "      <td>...</td>\n",
       "      <td>...</td>\n",
       "      <td>...</td>\n",
       "      <td>...</td>\n",
       "      <td>...</td>\n",
       "      <td>...</td>\n",
       "    </tr>\n",
       "    <tr>\n",
       "      <th>85</th>\n",
       "      <td>15400.000000</td>\n",
       "      <td>5</td>\n",
       "      <td>2</td>\n",
       "      <td>0</td>\n",
       "      <td>0</td>\n",
       "      <td>0</td>\n",
       "      <td>0</td>\n",
       "      <td>0</td>\n",
       "      <td>0</td>\n",
       "      <td>0</td>\n",
       "      <td>...</td>\n",
       "      <td>0</td>\n",
       "      <td>0</td>\n",
       "      <td>0</td>\n",
       "      <td>0</td>\n",
       "      <td>0</td>\n",
       "      <td>0</td>\n",
       "      <td>0</td>\n",
       "      <td>0</td>\n",
       "      <td>1</td>\n",
       "      <td>0</td>\n",
       "    </tr>\n",
       "    <tr>\n",
       "      <th>86</th>\n",
       "      <td>15400.000000</td>\n",
       "      <td>5</td>\n",
       "      <td>2</td>\n",
       "      <td>0</td>\n",
       "      <td>0</td>\n",
       "      <td>0</td>\n",
       "      <td>0</td>\n",
       "      <td>0</td>\n",
       "      <td>0</td>\n",
       "      <td>0</td>\n",
       "      <td>...</td>\n",
       "      <td>0</td>\n",
       "      <td>0</td>\n",
       "      <td>0</td>\n",
       "      <td>0</td>\n",
       "      <td>0</td>\n",
       "      <td>0</td>\n",
       "      <td>1</td>\n",
       "      <td>0</td>\n",
       "      <td>0</td>\n",
       "      <td>0</td>\n",
       "    </tr>\n",
       "    <tr>\n",
       "      <th>87</th>\n",
       "      <td>15400.000000</td>\n",
       "      <td>5</td>\n",
       "      <td>5</td>\n",
       "      <td>0</td>\n",
       "      <td>0</td>\n",
       "      <td>0</td>\n",
       "      <td>0</td>\n",
       "      <td>0</td>\n",
       "      <td>0</td>\n",
       "      <td>0</td>\n",
       "      <td>...</td>\n",
       "      <td>0</td>\n",
       "      <td>0</td>\n",
       "      <td>0</td>\n",
       "      <td>1</td>\n",
       "      <td>0</td>\n",
       "      <td>0</td>\n",
       "      <td>0</td>\n",
       "      <td>0</td>\n",
       "      <td>0</td>\n",
       "      <td>0</td>\n",
       "    </tr>\n",
       "    <tr>\n",
       "      <th>88</th>\n",
       "      <td>15400.000000</td>\n",
       "      <td>5</td>\n",
       "      <td>2</td>\n",
       "      <td>0</td>\n",
       "      <td>0</td>\n",
       "      <td>0</td>\n",
       "      <td>0</td>\n",
       "      <td>0</td>\n",
       "      <td>0</td>\n",
       "      <td>0</td>\n",
       "      <td>...</td>\n",
       "      <td>0</td>\n",
       "      <td>0</td>\n",
       "      <td>0</td>\n",
       "      <td>0</td>\n",
       "      <td>0</td>\n",
       "      <td>0</td>\n",
       "      <td>0</td>\n",
       "      <td>0</td>\n",
       "      <td>1</td>\n",
       "      <td>0</td>\n",
       "    </tr>\n",
       "    <tr>\n",
       "      <th>89</th>\n",
       "      <td>3681.000000</td>\n",
       "      <td>5</td>\n",
       "      <td>0</td>\n",
       "      <td>0</td>\n",
       "      <td>0</td>\n",
       "      <td>0</td>\n",
       "      <td>0</td>\n",
       "      <td>0</td>\n",
       "      <td>0</td>\n",
       "      <td>1</td>\n",
       "      <td>...</td>\n",
       "      <td>0</td>\n",
       "      <td>0</td>\n",
       "      <td>0</td>\n",
       "      <td>0</td>\n",
       "      <td>0</td>\n",
       "      <td>0</td>\n",
       "      <td>0</td>\n",
       "      <td>0</td>\n",
       "      <td>0</td>\n",
       "      <td>1</td>\n",
       "    </tr>\n",
       "  </tbody>\n",
       "</table>\n",
       "<p>90 rows × 83 columns</p>\n",
       "</div>"
      ],
      "text/plain": [
       "     PayloadMass  Block  ReusedCount  Orbit_ES-L1  Orbit_GEO  Orbit_GTO  \\\n",
       "0    6104.959412      1            0            0          0          0   \n",
       "1     525.000000      1            0            0          0          0   \n",
       "2     677.000000      1            0            0          0          0   \n",
       "3    8469.125000      1            0            0          0          0   \n",
       "4    3170.000000      1            0            0          0          1   \n",
       "..           ...    ...          ...          ...        ...        ...   \n",
       "85  15400.000000      5            2            0          0          0   \n",
       "86  15400.000000      5            2            0          0          0   \n",
       "87  15400.000000      5            5            0          0          0   \n",
       "88  15400.000000      5            2            0          0          0   \n",
       "89   3681.000000      5            0            0          0          0   \n",
       "\n",
       "    Orbit_HEO  Orbit_ISS  Orbit_LEO  Orbit_MEO  ...  Serial_B1048  \\\n",
       "0           0          0          1          0  ...             0   \n",
       "1           0          0          1          0  ...             0   \n",
       "2           0          1          0          0  ...             0   \n",
       "3           0          0          0          0  ...             0   \n",
       "4           0          0          0          0  ...             0   \n",
       "..        ...        ...        ...        ...  ...           ...   \n",
       "85          0          0          0          0  ...             0   \n",
       "86          0          0          0          0  ...             0   \n",
       "87          0          0          0          0  ...             0   \n",
       "88          0          0          0          0  ...             0   \n",
       "89          0          0          0          1  ...             0   \n",
       "\n",
       "    Serial_B1049  Serial_B1050  Serial_B1051  Serial_B1054  Serial_B1056  \\\n",
       "0              0             0             0             0             0   \n",
       "1              0             0             0             0             0   \n",
       "2              0             0             0             0             0   \n",
       "3              0             0             0             0             0   \n",
       "4              0             0             0             0             0   \n",
       "..           ...           ...           ...           ...           ...   \n",
       "85             0             0             0             0             0   \n",
       "86             0             0             0             0             0   \n",
       "87             0             0             1             0             0   \n",
       "88             0             0             0             0             0   \n",
       "89             0             0             0             0             0   \n",
       "\n",
       "    Serial_B1058  Serial_B1059  Serial_B1060  Serial_B1062  \n",
       "0              0             0             0             0  \n",
       "1              0             0             0             0  \n",
       "2              0             0             0             0  \n",
       "3              0             0             0             0  \n",
       "4              0             0             0             0  \n",
       "..           ...           ...           ...           ...  \n",
       "85             0             0             1             0  \n",
       "86             1             0             0             0  \n",
       "87             0             0             0             0  \n",
       "88             0             0             1             0  \n",
       "89             0             0             0             1  \n",
       "\n",
       "[90 rows x 83 columns]"
      ]
     },
     "execution_count": 33,
     "metadata": {},
     "output_type": "execute_result"
    }
   ],
   "source": [
    "df_dummy"
   ]
  },
  {
   "cell_type": "markdown",
   "id": "b3873141-cc8a-4063-b09b-d16fdf30809f",
   "metadata": {},
   "source": [
    "## <font color='blue'> ستون های  boolian\n",
    "## این ستون ها را جدا می کنیم و آنها را نیز به  عدد تبدیل می کنیم"
   ]
  },
  {
   "cell_type": "code",
   "execution_count": 34,
   "id": "b4490c9b-ed1d-46c0-b08b-2278c8f517d0",
   "metadata": {},
   "outputs": [],
   "source": [
    "df_bool = df[['GridFins','Reused','Legs']].astype(int)"
   ]
  },
  {
   "cell_type": "code",
   "execution_count": 35,
   "id": "0fcba655-f26c-4f85-bbd7-8a21fa2cdf4d",
   "metadata": {},
   "outputs": [
    {
     "data": {
      "text/html": [
       "<div>\n",
       "<style scoped>\n",
       "    .dataframe tbody tr th:only-of-type {\n",
       "        vertical-align: middle;\n",
       "    }\n",
       "\n",
       "    .dataframe tbody tr th {\n",
       "        vertical-align: top;\n",
       "    }\n",
       "\n",
       "    .dataframe thead th {\n",
       "        text-align: right;\n",
       "    }\n",
       "</style>\n",
       "<table border=\"1\" class=\"dataframe\">\n",
       "  <thead>\n",
       "    <tr style=\"text-align: right;\">\n",
       "      <th></th>\n",
       "      <th>GridFins</th>\n",
       "      <th>Reused</th>\n",
       "      <th>Legs</th>\n",
       "    </tr>\n",
       "  </thead>\n",
       "  <tbody>\n",
       "    <tr>\n",
       "      <th>0</th>\n",
       "      <td>0</td>\n",
       "      <td>0</td>\n",
       "      <td>0</td>\n",
       "    </tr>\n",
       "    <tr>\n",
       "      <th>1</th>\n",
       "      <td>0</td>\n",
       "      <td>0</td>\n",
       "      <td>0</td>\n",
       "    </tr>\n",
       "    <tr>\n",
       "      <th>2</th>\n",
       "      <td>0</td>\n",
       "      <td>0</td>\n",
       "      <td>0</td>\n",
       "    </tr>\n",
       "    <tr>\n",
       "      <th>3</th>\n",
       "      <td>0</td>\n",
       "      <td>0</td>\n",
       "      <td>0</td>\n",
       "    </tr>\n",
       "    <tr>\n",
       "      <th>4</th>\n",
       "      <td>0</td>\n",
       "      <td>0</td>\n",
       "      <td>0</td>\n",
       "    </tr>\n",
       "    <tr>\n",
       "      <th>...</th>\n",
       "      <td>...</td>\n",
       "      <td>...</td>\n",
       "      <td>...</td>\n",
       "    </tr>\n",
       "    <tr>\n",
       "      <th>85</th>\n",
       "      <td>1</td>\n",
       "      <td>1</td>\n",
       "      <td>1</td>\n",
       "    </tr>\n",
       "    <tr>\n",
       "      <th>86</th>\n",
       "      <td>1</td>\n",
       "      <td>1</td>\n",
       "      <td>1</td>\n",
       "    </tr>\n",
       "    <tr>\n",
       "      <th>87</th>\n",
       "      <td>1</td>\n",
       "      <td>1</td>\n",
       "      <td>1</td>\n",
       "    </tr>\n",
       "    <tr>\n",
       "      <th>88</th>\n",
       "      <td>1</td>\n",
       "      <td>1</td>\n",
       "      <td>1</td>\n",
       "    </tr>\n",
       "    <tr>\n",
       "      <th>89</th>\n",
       "      <td>1</td>\n",
       "      <td>0</td>\n",
       "      <td>1</td>\n",
       "    </tr>\n",
       "  </tbody>\n",
       "</table>\n",
       "<p>90 rows × 3 columns</p>\n",
       "</div>"
      ],
      "text/plain": [
       "    GridFins  Reused  Legs\n",
       "0          0       0     0\n",
       "1          0       0     0\n",
       "2          0       0     0\n",
       "3          0       0     0\n",
       "4          0       0     0\n",
       "..       ...     ...   ...\n",
       "85         1       1     1\n",
       "86         1       1     1\n",
       "87         1       1     1\n",
       "88         1       1     1\n",
       "89         1       0     1\n",
       "\n",
       "[90 rows x 3 columns]"
      ]
     },
     "execution_count": 35,
     "metadata": {},
     "output_type": "execute_result"
    }
   ],
   "source": [
    "df_bool"
   ]
  },
  {
   "cell_type": "markdown",
   "id": "1d6b7f21-2fcf-4ee3-b420-b20eb4c71a9a",
   "metadata": {},
   "source": [
    "## <font color='blue'> تجمیع دو دیتافریم"
   ]
  },
  {
   "cell_type": "code",
   "execution_count": 36,
   "id": "ff679695",
   "metadata": {},
   "outputs": [],
   "source": [
    "df_class = df['Class']"
   ]
  },
  {
   "cell_type": "code",
   "execution_count": 37,
   "id": "5e38f800-e7f5-485e-b409-098289b5bf2c",
   "metadata": {},
   "outputs": [],
   "source": [
    "df_preprocessed = pd.concat([df_bool , df_dummy , df_class] , axis = 1)"
   ]
  },
  {
   "cell_type": "code",
   "execution_count": 38,
   "id": "59372ed0-68d1-4c1a-9eab-bd6227184d69",
   "metadata": {},
   "outputs": [
    {
     "data": {
      "text/html": [
       "<div>\n",
       "<style scoped>\n",
       "    .dataframe tbody tr th:only-of-type {\n",
       "        vertical-align: middle;\n",
       "    }\n",
       "\n",
       "    .dataframe tbody tr th {\n",
       "        vertical-align: top;\n",
       "    }\n",
       "\n",
       "    .dataframe thead th {\n",
       "        text-align: right;\n",
       "    }\n",
       "</style>\n",
       "<table border=\"1\" class=\"dataframe\">\n",
       "  <thead>\n",
       "    <tr style=\"text-align: right;\">\n",
       "      <th></th>\n",
       "      <th>GridFins</th>\n",
       "      <th>Reused</th>\n",
       "      <th>Legs</th>\n",
       "      <th>PayloadMass</th>\n",
       "      <th>Block</th>\n",
       "      <th>ReusedCount</th>\n",
       "      <th>Orbit_ES-L1</th>\n",
       "      <th>Orbit_GEO</th>\n",
       "      <th>Orbit_GTO</th>\n",
       "      <th>Orbit_HEO</th>\n",
       "      <th>...</th>\n",
       "      <th>Serial_B1049</th>\n",
       "      <th>Serial_B1050</th>\n",
       "      <th>Serial_B1051</th>\n",
       "      <th>Serial_B1054</th>\n",
       "      <th>Serial_B1056</th>\n",
       "      <th>Serial_B1058</th>\n",
       "      <th>Serial_B1059</th>\n",
       "      <th>Serial_B1060</th>\n",
       "      <th>Serial_B1062</th>\n",
       "      <th>Class</th>\n",
       "    </tr>\n",
       "  </thead>\n",
       "  <tbody>\n",
       "    <tr>\n",
       "      <th>0</th>\n",
       "      <td>0</td>\n",
       "      <td>0</td>\n",
       "      <td>0</td>\n",
       "      <td>6104.959412</td>\n",
       "      <td>1</td>\n",
       "      <td>0</td>\n",
       "      <td>0</td>\n",
       "      <td>0</td>\n",
       "      <td>0</td>\n",
       "      <td>0</td>\n",
       "      <td>...</td>\n",
       "      <td>0</td>\n",
       "      <td>0</td>\n",
       "      <td>0</td>\n",
       "      <td>0</td>\n",
       "      <td>0</td>\n",
       "      <td>0</td>\n",
       "      <td>0</td>\n",
       "      <td>0</td>\n",
       "      <td>0</td>\n",
       "      <td>0</td>\n",
       "    </tr>\n",
       "    <tr>\n",
       "      <th>1</th>\n",
       "      <td>0</td>\n",
       "      <td>0</td>\n",
       "      <td>0</td>\n",
       "      <td>525.000000</td>\n",
       "      <td>1</td>\n",
       "      <td>0</td>\n",
       "      <td>0</td>\n",
       "      <td>0</td>\n",
       "      <td>0</td>\n",
       "      <td>0</td>\n",
       "      <td>...</td>\n",
       "      <td>0</td>\n",
       "      <td>0</td>\n",
       "      <td>0</td>\n",
       "      <td>0</td>\n",
       "      <td>0</td>\n",
       "      <td>0</td>\n",
       "      <td>0</td>\n",
       "      <td>0</td>\n",
       "      <td>0</td>\n",
       "      <td>0</td>\n",
       "    </tr>\n",
       "    <tr>\n",
       "      <th>2</th>\n",
       "      <td>0</td>\n",
       "      <td>0</td>\n",
       "      <td>0</td>\n",
       "      <td>677.000000</td>\n",
       "      <td>1</td>\n",
       "      <td>0</td>\n",
       "      <td>0</td>\n",
       "      <td>0</td>\n",
       "      <td>0</td>\n",
       "      <td>0</td>\n",
       "      <td>...</td>\n",
       "      <td>0</td>\n",
       "      <td>0</td>\n",
       "      <td>0</td>\n",
       "      <td>0</td>\n",
       "      <td>0</td>\n",
       "      <td>0</td>\n",
       "      <td>0</td>\n",
       "      <td>0</td>\n",
       "      <td>0</td>\n",
       "      <td>0</td>\n",
       "    </tr>\n",
       "    <tr>\n",
       "      <th>3</th>\n",
       "      <td>0</td>\n",
       "      <td>0</td>\n",
       "      <td>0</td>\n",
       "      <td>8469.125000</td>\n",
       "      <td>1</td>\n",
       "      <td>0</td>\n",
       "      <td>0</td>\n",
       "      <td>0</td>\n",
       "      <td>0</td>\n",
       "      <td>0</td>\n",
       "      <td>...</td>\n",
       "      <td>0</td>\n",
       "      <td>0</td>\n",
       "      <td>0</td>\n",
       "      <td>0</td>\n",
       "      <td>0</td>\n",
       "      <td>0</td>\n",
       "      <td>0</td>\n",
       "      <td>0</td>\n",
       "      <td>0</td>\n",
       "      <td>0</td>\n",
       "    </tr>\n",
       "    <tr>\n",
       "      <th>4</th>\n",
       "      <td>0</td>\n",
       "      <td>0</td>\n",
       "      <td>0</td>\n",
       "      <td>3170.000000</td>\n",
       "      <td>1</td>\n",
       "      <td>0</td>\n",
       "      <td>0</td>\n",
       "      <td>0</td>\n",
       "      <td>1</td>\n",
       "      <td>0</td>\n",
       "      <td>...</td>\n",
       "      <td>0</td>\n",
       "      <td>0</td>\n",
       "      <td>0</td>\n",
       "      <td>0</td>\n",
       "      <td>0</td>\n",
       "      <td>0</td>\n",
       "      <td>0</td>\n",
       "      <td>0</td>\n",
       "      <td>0</td>\n",
       "      <td>0</td>\n",
       "    </tr>\n",
       "    <tr>\n",
       "      <th>...</th>\n",
       "      <td>...</td>\n",
       "      <td>...</td>\n",
       "      <td>...</td>\n",
       "      <td>...</td>\n",
       "      <td>...</td>\n",
       "      <td>...</td>\n",
       "      <td>...</td>\n",
       "      <td>...</td>\n",
       "      <td>...</td>\n",
       "      <td>...</td>\n",
       "      <td>...</td>\n",
       "      <td>...</td>\n",
       "      <td>...</td>\n",
       "      <td>...</td>\n",
       "      <td>...</td>\n",
       "      <td>...</td>\n",
       "      <td>...</td>\n",
       "      <td>...</td>\n",
       "      <td>...</td>\n",
       "      <td>...</td>\n",
       "      <td>...</td>\n",
       "    </tr>\n",
       "    <tr>\n",
       "      <th>85</th>\n",
       "      <td>1</td>\n",
       "      <td>1</td>\n",
       "      <td>1</td>\n",
       "      <td>15400.000000</td>\n",
       "      <td>5</td>\n",
       "      <td>2</td>\n",
       "      <td>0</td>\n",
       "      <td>0</td>\n",
       "      <td>0</td>\n",
       "      <td>0</td>\n",
       "      <td>...</td>\n",
       "      <td>0</td>\n",
       "      <td>0</td>\n",
       "      <td>0</td>\n",
       "      <td>0</td>\n",
       "      <td>0</td>\n",
       "      <td>0</td>\n",
       "      <td>0</td>\n",
       "      <td>1</td>\n",
       "      <td>0</td>\n",
       "      <td>1</td>\n",
       "    </tr>\n",
       "    <tr>\n",
       "      <th>86</th>\n",
       "      <td>1</td>\n",
       "      <td>1</td>\n",
       "      <td>1</td>\n",
       "      <td>15400.000000</td>\n",
       "      <td>5</td>\n",
       "      <td>2</td>\n",
       "      <td>0</td>\n",
       "      <td>0</td>\n",
       "      <td>0</td>\n",
       "      <td>0</td>\n",
       "      <td>...</td>\n",
       "      <td>0</td>\n",
       "      <td>0</td>\n",
       "      <td>0</td>\n",
       "      <td>0</td>\n",
       "      <td>0</td>\n",
       "      <td>1</td>\n",
       "      <td>0</td>\n",
       "      <td>0</td>\n",
       "      <td>0</td>\n",
       "      <td>1</td>\n",
       "    </tr>\n",
       "    <tr>\n",
       "      <th>87</th>\n",
       "      <td>1</td>\n",
       "      <td>1</td>\n",
       "      <td>1</td>\n",
       "      <td>15400.000000</td>\n",
       "      <td>5</td>\n",
       "      <td>5</td>\n",
       "      <td>0</td>\n",
       "      <td>0</td>\n",
       "      <td>0</td>\n",
       "      <td>0</td>\n",
       "      <td>...</td>\n",
       "      <td>0</td>\n",
       "      <td>0</td>\n",
       "      <td>1</td>\n",
       "      <td>0</td>\n",
       "      <td>0</td>\n",
       "      <td>0</td>\n",
       "      <td>0</td>\n",
       "      <td>0</td>\n",
       "      <td>0</td>\n",
       "      <td>1</td>\n",
       "    </tr>\n",
       "    <tr>\n",
       "      <th>88</th>\n",
       "      <td>1</td>\n",
       "      <td>1</td>\n",
       "      <td>1</td>\n",
       "      <td>15400.000000</td>\n",
       "      <td>5</td>\n",
       "      <td>2</td>\n",
       "      <td>0</td>\n",
       "      <td>0</td>\n",
       "      <td>0</td>\n",
       "      <td>0</td>\n",
       "      <td>...</td>\n",
       "      <td>0</td>\n",
       "      <td>0</td>\n",
       "      <td>0</td>\n",
       "      <td>0</td>\n",
       "      <td>0</td>\n",
       "      <td>0</td>\n",
       "      <td>0</td>\n",
       "      <td>1</td>\n",
       "      <td>0</td>\n",
       "      <td>1</td>\n",
       "    </tr>\n",
       "    <tr>\n",
       "      <th>89</th>\n",
       "      <td>1</td>\n",
       "      <td>0</td>\n",
       "      <td>1</td>\n",
       "      <td>3681.000000</td>\n",
       "      <td>5</td>\n",
       "      <td>0</td>\n",
       "      <td>0</td>\n",
       "      <td>0</td>\n",
       "      <td>0</td>\n",
       "      <td>0</td>\n",
       "      <td>...</td>\n",
       "      <td>0</td>\n",
       "      <td>0</td>\n",
       "      <td>0</td>\n",
       "      <td>0</td>\n",
       "      <td>0</td>\n",
       "      <td>0</td>\n",
       "      <td>0</td>\n",
       "      <td>0</td>\n",
       "      <td>1</td>\n",
       "      <td>1</td>\n",
       "    </tr>\n",
       "  </tbody>\n",
       "</table>\n",
       "<p>90 rows × 87 columns</p>\n",
       "</div>"
      ],
      "text/plain": [
       "    GridFins  Reused  Legs   PayloadMass  Block  ReusedCount  Orbit_ES-L1  \\\n",
       "0          0       0     0   6104.959412      1            0            0   \n",
       "1          0       0     0    525.000000      1            0            0   \n",
       "2          0       0     0    677.000000      1            0            0   \n",
       "3          0       0     0   8469.125000      1            0            0   \n",
       "4          0       0     0   3170.000000      1            0            0   \n",
       "..       ...     ...   ...           ...    ...          ...          ...   \n",
       "85         1       1     1  15400.000000      5            2            0   \n",
       "86         1       1     1  15400.000000      5            2            0   \n",
       "87         1       1     1  15400.000000      5            5            0   \n",
       "88         1       1     1  15400.000000      5            2            0   \n",
       "89         1       0     1   3681.000000      5            0            0   \n",
       "\n",
       "    Orbit_GEO  Orbit_GTO  Orbit_HEO  ...  Serial_B1049  Serial_B1050  \\\n",
       "0           0          0          0  ...             0             0   \n",
       "1           0          0          0  ...             0             0   \n",
       "2           0          0          0  ...             0             0   \n",
       "3           0          0          0  ...             0             0   \n",
       "4           0          1          0  ...             0             0   \n",
       "..        ...        ...        ...  ...           ...           ...   \n",
       "85          0          0          0  ...             0             0   \n",
       "86          0          0          0  ...             0             0   \n",
       "87          0          0          0  ...             0             0   \n",
       "88          0          0          0  ...             0             0   \n",
       "89          0          0          0  ...             0             0   \n",
       "\n",
       "    Serial_B1051  Serial_B1054  Serial_B1056  Serial_B1058  Serial_B1059  \\\n",
       "0              0             0             0             0             0   \n",
       "1              0             0             0             0             0   \n",
       "2              0             0             0             0             0   \n",
       "3              0             0             0             0             0   \n",
       "4              0             0             0             0             0   \n",
       "..           ...           ...           ...           ...           ...   \n",
       "85             0             0             0             0             0   \n",
       "86             0             0             0             1             0   \n",
       "87             1             0             0             0             0   \n",
       "88             0             0             0             0             0   \n",
       "89             0             0             0             0             0   \n",
       "\n",
       "    Serial_B1060  Serial_B1062  Class  \n",
       "0              0             0      0  \n",
       "1              0             0      0  \n",
       "2              0             0      0  \n",
       "3              0             0      0  \n",
       "4              0             0      0  \n",
       "..           ...           ...    ...  \n",
       "85             1             0      1  \n",
       "86             0             0      1  \n",
       "87             0             0      1  \n",
       "88             1             0      1  \n",
       "89             0             1      1  \n",
       "\n",
       "[90 rows x 87 columns]"
      ]
     },
     "execution_count": 38,
     "metadata": {},
     "output_type": "execute_result"
    }
   ],
   "source": [
    "df_preprocessed"
   ]
  },
  {
   "cell_type": "markdown",
   "id": "c1f758c5-7dc5-4f88-a7b7-f589ad3900e4",
   "metadata": {},
   "source": [
    "-------------------"
   ]
  },
  {
   "cell_type": "markdown",
   "id": "19ea6802-60e5-40c0-bac8-d796134efc32",
   "metadata": {},
   "source": [
    "## <font color='darkviolet'> ذخیره سازی دیتا فریم  در یک فایل "
   ]
  },
  {
   "cell_type": "code",
   "execution_count": 39,
   "id": "1bc2c799-f774-4e39-86d3-722bae1ab523",
   "metadata": {},
   "outputs": [],
   "source": [
    "df_preprocessed.to_excel('preprocessed.xlsx')"
   ]
  },
  {
   "cell_type": "code",
   "execution_count": null,
   "id": "ed8c73a7-f657-4aef-b729-f820abea4ffa",
   "metadata": {},
   "outputs": [],
   "source": []
  }
 ],
 "metadata": {
  "kernelspec": {
   "display_name": "Python 3 (ipykernel)",
   "language": "python",
   "name": "python3"
  },
  "language_info": {
   "codemirror_mode": {
    "name": "ipython",
    "version": 3
   },
   "file_extension": ".py",
   "mimetype": "text/x-python",
   "name": "python",
   "nbconvert_exporter": "python",
   "pygments_lexer": "ipython3",
   "version": "3.12.3"
  }
 },
 "nbformat": 4,
 "nbformat_minor": 5
}
